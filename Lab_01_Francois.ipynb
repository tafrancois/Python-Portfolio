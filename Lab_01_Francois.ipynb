{
  "nbformat": 4,
  "nbformat_minor": 0,
  "metadata": {
    "colab": {
      "provenance": [],
      "include_colab_link": true
    },
    "kernelspec": {
      "name": "python3",
      "display_name": "Python 3"
    },
    "language_info": {
      "name": "python"
    }
  },
  "cells": [
    {
      "cell_type": "markdown",
      "metadata": {
        "id": "view-in-github",
        "colab_type": "text"
      },
      "source": [
        "<a href=\"https://colab.research.google.com/github/tafrancois/Python-Portfolio/blob/main/Francois_HW_01.ipynb\" target=\"_parent\"><img src=\"https://colab.research.google.com/assets/colab-badge.svg\" alt=\"Open In Colab\"/></a>"
      ]
    },
    {
      "cell_type": "markdown",
      "source": [
        "# MATH-509: Lab 1\n",
        "\n",
        "**Talaya Francois**\n",
        "\n",
        "[PLACEHOLDER_FOR_NOTEBOOK_LINK]\n"
      ],
      "metadata": {
        "id": "olIxvoiunBqF"
      }
    },
    {
      "cell_type": "markdown",
      "source": [
        "## Getting Started\n",
        "\n",
        "Follow the instructions below to copy this notebook and to perform some initial setup.\n",
        "\n",
        "1. Copy this notebook by selecting `File > Save a copy in Drive`.\n",
        "2. A new window should open for the copied notebook. Move the new notebook to your course folder in Google Drive by selecting `File > Move` and then selecting the desired folder.\n",
        "3. Update the name of the notebook by removing \"Copy of\" and replacing \"Username\" with your actual username.\n",
        "4. Update the first cell in the notebook by replacing \"Student Name\" with your actual name.\n",
        "5. Do not edit the line that says `PLACEHOLDER_FOR_NOTEBOOK_LINK`. This will be used by the [notebook renderer](https://colab.research.google.com/drive/1CJTipys46ldZxJFwnt7XbdjQUfkmoXeU?usp=sharing) tool to insert a link to your Colab notebook.\n",
        "6. Enable link sharing for your notebook.\n",
        "\n"
      ],
      "metadata": {
        "id": "XUzXd0_jn2gT"
      }
    },
    {
      "cell_type": "markdown",
      "source": [
        "## Double-Check Your Notebook\n",
        "\n",
        "Please make sure that you are working in your own copy of the notebook before you proceed. Work completed in the template notebook will not be saved! Take a look at the URL for this notebook. If you see the string `1ADkQmv2qHnq1LuoTu5DInKLNbscUTuLv`, then you are in the template, NOT your own copy."
      ],
      "metadata": {
        "id": "R94JcHnOZLGw"
      }
    },
    {
      "cell_type": "markdown",
      "source": [
        "## Import Statements\n",
        "\n",
        "No import statements will be used for this assignment. Please implement your solutions using tools from base Python without importing any packages."
      ],
      "metadata": {
        "id": "2ae0PeIsHTiV"
      }
    },
    {
      "cell_type": "markdown",
      "source": [
        "## Note about Loops\n",
        "\n",
        "In each problem below, you are asked to write a function to perform some task. Most, if not all, of these examples will involve loops. **For full credit, each of your functions should include at most one loop.** It is possible to write solutions to these problems involving more than one loop, but that would be inefficient in terms of runtime, especially when applied to a large example.\n"
      ],
      "metadata": {
        "id": "3ZlE29FQZ9l5"
      }
    },
    {
      "cell_type": "markdown",
      "source": [
        "## Note about NumPy\n",
        "\n",
        "Each of the problems in this assignment involes performing some type of calculation involving one or more lists of numbers. In Week 2, we will introduce a package called NumPy that simplifies the process of performing many types of calculations involving lists. You will see that each of the tasks discussed in this assignment can be performed more easily using NumPy. However, you are asked to complete this assignment **without** the use of NumPy. This should help to reinforce your understanding of the concepts."
      ],
      "metadata": {
        "id": "iFESPTGTaeQv"
      }
    },
    {
      "cell_type": "markdown",
      "source": [
        "# Problem 1 - Calculating Returns\n",
        "\n",
        "### Problem Background\n",
        "\n",
        "**Reinforcement Learning** is an important subfield of machine learning and artificial intelligence that deals with training AI agents to perform tasks through a trail-and-error process. Agents take actions in an environment and recieve a numerical reward for each action taken. Actions that help lead the agent toward the goal should result in high rewards and actions that do not lead the agent toward the goal should result in low (and perhaps negative) rewards.\n",
        "\n",
        "A single attempt by the agent at completing a task is called an **episode**. When scoring the actions taken during an episode, we are often interested in not only the reward earned as a result of that action, but the rewards earned afterward in the the episode. The total reward earned from one point onward in an episode is known as the **cumulative reward**. It is often desireable to put more emphasis on rewards earned earlier in the episode. This is accomplished by using a **discount factor** $\\gamma$. The discount factor is a number between 0 and 1. Each reward is multiplied by a power of $\\gamma$, with the power increasing by one for each subsequent reward. The sum of the discounted rewards is called the **return**.\n",
        "\n",
        "Denote the rewards earned during an episode by $r_0$, $r_1$, $r_2$, ..., $r_{N}$. The return $G$ earned during the episode is calculated as follows:\n",
        "\n",
        "$$G = \\sum_{t=0}^N \\gamma^{t} r_t = r_0 + \\gamma \\cdot r_1 + \\gamma^2 \\cdot r_2 + ... + \\gamma^N \\cdot r_N $$\n",
        "\n",
        "\n",
        "### Instructions\n",
        "\n",
        "A list is provided in the cell below. The contents of the list are intended to represent the rewards earned by a reinforcement learning agent during an episode. Calculate the return earned by the agent, assuming a discount factor of 0.99. Store the return in a variable named `G`. Print the value of `G` rounded to 4 decimal places.\n",
        "\n",
        "When writing your solution, please store the discount factor in a variable named `gamma` and use this variable in your calculations rather than hard-coding in the value 0.99 in your calculations. This is not strictly necessary to accomplish this task, but it is a good programming practice.\n",
        "\n",
        "\n",
        "\n"
      ],
      "metadata": {
        "id": "LoZ2Yh0vb15s"
      }
    },
    {
      "cell_type": "code",
      "source": [
        "rewards = [12, 8, -6, 4, 6, -10, -8, -14]\n",
        "\n",
        "\n",
        "gamma = 0.99\n",
        "count = 0\n",
        "G = 0\n",
        "\n",
        "for i in rewards:\n",
        "  G += (gamma ** count) * i\n",
        "  count += 1\n",
        "\n",
        "G = round(G, 4)\n",
        "print(G)\n",
        "\n"
      ],
      "metadata": {
        "id": "DRGeO-xMb1aA",
        "colab": {
          "base_uri": "https://localhost:8080/"
        },
        "outputId": "bdb2a461-fb67-4d59-e159-cf6c18ae040c"
      },
      "execution_count": 1,
      "outputs": [
        {
          "output_type": "stream",
          "name": "stdout",
          "text": [
            "-6.4065\n"
          ]
        }
      ]
    },
    {
      "cell_type": "markdown",
      "source": [
        "Repeat the task for the cell above, but using $\\gamma = 0.9$ instead. You should be able to copy and paste the code from above, changing only the value of the variable `gamma`."
      ],
      "metadata": {
        "id": "bZ2GfoI4iC6N"
      }
    },
    {
      "cell_type": "code",
      "source": [
        "gamma = 0.9\n",
        "count = 0\n",
        "G = 0\n",
        "\n",
        "for i in rewards:\n",
        "  G += (gamma ** count) * i\n",
        "  count += 1\n",
        "\n",
        "G = round(G, 4)\n",
        "print(G)\n"
      ],
      "metadata": {
        "id": "GZIZcNoiiDNK",
        "colab": {
          "base_uri": "https://localhost:8080/"
        },
        "outputId": "2288b29b-5d7b-4f7e-da4a-e6230c40f9a8"
      },
      "execution_count": 2,
      "outputs": [
        {
          "output_type": "stream",
          "name": "stdout",
          "text": [
            "4.34\n"
          ]
        }
      ]
    },
    {
      "cell_type": "markdown",
      "source": [
        "# Problem 2 - Elementwise Sums\n",
        "\n",
        "### Problem Background\n",
        "\n",
        "A **vector** is an ordered collection of values. We will discuss vectors in more detail in Week 3 of this course, but for now, you can think of them as being roughly synonymous with lists.\n",
        "\n",
        "An **elementwise sum** of two vectors of the same size is a new vector whose entries are obtained by summing corresponding pairs of elements of the original vectors. For example, the elementwise sum of the vectors/lists `[1, 2, 3]` and `[2, 5, 8]` would be `[3, 7, 11]`. Elementwise sums appear frequently in machine learning and artificial intelligence.\n",
        "\n",
        "### Instructions\n",
        "\n",
        "In the cell below, define a function named `add_vectors()` with two parameters named `v1` and `v2`. These parameters are expected to be two lists of equal size. The function should create and return a new list that represents the elementwise sum of `v1` and `v2`.\n",
        "\n",
        "You do not need to check that the lists have the same length. We will assume that this is the case.\n",
        "\n",
        "### Guidance\n",
        "\n",
        "Within your function, you should use a loop to calculate the sum of pairs of corresponding elements one at a time. Each time you calculate a new sum, you should append it to the list that you will ultimately return.\n"
      ],
      "metadata": {
        "id": "_v5eyAtdHn2m"
      }
    },
    {
      "cell_type": "code",
      "source": [
        "def add_vectors(v1, v2):\n",
        "  elementwise_sum = []\n",
        "\n",
        "  for i in range(len(v1)):\n",
        "    sum_per_index = v1[i] + v2[i]\n",
        "    elementwise_sum.append(sum_per_index)\n",
        "\n",
        "  return elementwise_sum"
      ],
      "metadata": {
        "id": "PaWsFIiOHnuw"
      },
      "execution_count": null,
      "outputs": []
    },
    {
      "cell_type": "markdown",
      "source": [
        "Run the cell below to test your function."
      ],
      "metadata": {
        "id": "jc_EAY7mKcks"
      }
    },
    {
      "cell_type": "code",
      "source": [
        "x = [6, 1, -4, 7, 9]\n",
        "y = [4, 8, 2, -4, 5]\n",
        "\n",
        "z = add_vectors(x, y)\n",
        "print(z)"
      ],
      "metadata": {
        "id": "iwC3TC2sYaiz",
        "colab": {
          "base_uri": "https://localhost:8080/"
        },
        "outputId": "759fc7b2-efc2-4cfe-d844-b48951a91da8"
      },
      "execution_count": null,
      "outputs": [
        {
          "output_type": "stream",
          "name": "stdout",
          "text": [
            "[10, 9, -2, 3, 14]\n"
          ]
        }
      ]
    },
    {
      "cell_type": "markdown",
      "source": [
        "# Problem 3 - Dot Product\n",
        "\n",
        "### Problem Background\n",
        "\n",
        "The **dot product** of two equal-sized vectors is calculated by multipling pairs of corresponding elements of the two vectors and summing the results. For example, the dot product of the vectors `[1, 2, 3]` and `[2, 5, 8]` would be 36, as shown below.\n",
        "\n",
        "$$1\\cdot 2 ~+~ 2 \\cdot 5 ~+~ 3 \\cdot 8 ~=~ 2 + 10 + 24 ~=~ 36 $$\n",
        "\n",
        "The dot product is a very important mathematical operation in machine learning and artificial intelligence. We will discuss it in more detail in Week 3.\n",
        "\n",
        "### Instructions\n",
        "\n",
        "In the cell below, define a function named `dot_product()` with two parameters named `v1` and `v2`. These parameters are expected to be two lists of equal size. The function should calculate and return the dot product of the vectors represented by the two lists.\n",
        "\n",
        "You do not need to check that the lists have the same length. We will assume that this is the case.\n",
        "\n",
        "### Guidance\n",
        "\n",
        "Within your function, you should use a loop to calculate the products of pairs of corresponding elements one at a time. Each time you calculate a new product, you should add it to a `total` variable that you will ultimately return.\n"
      ],
      "metadata": {
        "id": "6wH9BsQ4Yx9G"
      }
    },
    {
      "cell_type": "code",
      "source": [
        "def dot_product(v1, v2):\n",
        "  dp_sum = 0\n",
        "  for i in range(len(v1)):\n",
        "    dp_sum += v1[i] * v2[i]\n",
        "\n",
        "  return dp_sum\n",
        "\n"
      ],
      "metadata": {
        "id": "FPEKmXhiH3aB"
      },
      "execution_count": null,
      "outputs": []
    },
    {
      "cell_type": "markdown",
      "source": [
        "Run the cell below to test your function."
      ],
      "metadata": {
        "id": "YVn5i9ddK9rr"
      }
    },
    {
      "cell_type": "code",
      "source": [
        "x = [6, 1, -4, 7, 9]\n",
        "y = [4, 8, 2, -4, 5]\n",
        "\n",
        "dp = dot_product(x, y)\n",
        "print(dp)"
      ],
      "metadata": {
        "id": "jXmOMnZ0ZLX0",
        "colab": {
          "base_uri": "https://localhost:8080/"
        },
        "outputId": "f6065f6d-0d52-4507-e7d9-9a59808f81bc"
      },
      "execution_count": null,
      "outputs": [
        {
          "output_type": "stream",
          "name": "stdout",
          "text": [
            "41\n"
          ]
        }
      ]
    },
    {
      "cell_type": "markdown",
      "source": [
        "# Problem 4 - Expected Value and Variance\n",
        "\n",
        "### Problem Background\n",
        "\n",
        "A **probability distribution** is a table or function that assigns a probability to each possible outcome for a random experiment. An example of such a distribution is shown below.\n",
        "\n",
        "| $x$    |  10 |  20  |  30 |  40 |  50  |\n",
        "|--------|-----|------|-----|-----|------|\n",
        "| $p(x)$ | 0.1 | 0.15 | 0.2 | 0.3 | 0.25 |\n",
        "\n",
        "The first row of the table lists the possible values $x$ that could occur as a result of the experiment and the second row provides the probability of each event occurring. When studying a probability distribution, we are often interested in calculating two **descriptive statistics** known as the **mean** (denoted $E[X]$) and the **variance** (denoted $\\textrm{Var}[X]$). Formulas for the mean and the variance are provided below. Notice that there is an intermediate quantity denoted by $E[X^2]$ that we need to find in order to calculate the variance.\n",
        "\n",
        "$$E[X] = \\sum_x x\\cdot p(x)$$\n",
        "\n",
        "$$E[X^2] = \\sum_x x^2\\cdot p(x)$$\n",
        "\n",
        "$$\\textrm{Var}[X] = E[X^2] - (E[X])^2$$\n",
        "\n",
        "\n",
        "### Instructions\n",
        "\n",
        "The cell below provides lists that contains the values in the rows of the probability distribution from above. Use these lists to calculate the expected value and the variance of the distribution. Store the results in variables named `Ex` and `VarX`, respectively. Print both of these values.\n",
        "\n",
        "### Guidance\n",
        "\n",
        "You should start by creating a new list that contains the squares of the $x$ values. Then you can use the `dot_product()` function from Problem 3 to easily calculate $E[X]$ and $E[X^2]$. You can then use these quantities to calculate $\\textrm{Var}[X]$."
      ],
      "metadata": {
        "id": "QrALyj9divHG"
      }
    },
    {
      "cell_type": "code",
      "source": [
        "p_list = [0.1, 0.15, 0.2, 0.3, 0.25]\n",
        "x_list = [10, 20, 30, 40, 50]\n",
        "\n",
        "x_squared = []\n",
        "\n",
        "for i in range(len(x_list)):\n",
        "  squared_values = x_list[i] ** 2\n",
        "  x_squared.append(squared_values)\n",
        "\n",
        "Ex = dot_product(p_list, x_list)\n",
        "\n",
        "Ex2 = dot_product(p_list, x_squared)\n",
        "\n",
        "VarX = Ex2 - (Ex ** 2)\n",
        "\n",
        "print(Ex)\n",
        "print(VarX)"
      ],
      "metadata": {
        "id": "2sEaltDtiwSB",
        "colab": {
          "base_uri": "https://localhost:8080/"
        },
        "outputId": "af292b6b-df4c-44b2-a36c-2ba117e2d684"
      },
      "execution_count": null,
      "outputs": [
        {
          "output_type": "stream",
          "name": "stdout",
          "text": [
            "34.5\n",
            "164.75\n"
          ]
        }
      ]
    },
    {
      "cell_type": "markdown",
      "source": [
        "# Problem 5 - Sum of Squared Errors\n",
        "\n",
        "\n",
        "### Problem Background\n",
        "\n",
        "As discussed in the lessons this week, the **sum of squared errors** metric is often used to score machine learning models and other tools that are used for generating estimates. Suppose that you are provided with $N$ true values for some target variable. We will denote these values as follows:\n",
        "\n",
        "$$y_0, ~y_1, ~y_2, ~..., ~y_{N-1}$$\n",
        "\n",
        "Suppose that you also have estimates for each of these values. These estimates could come from a machine learning mdodel or for some other estimation technique. Suppose that the estimates are denoted as follows:\n",
        "\n",
        "$$\\hat y_0, ~\\hat y_1, ~\\hat y_2, ~..., ~\\hat y_{N-1}$$\n",
        "\n",
        "We can calculate the error in each estimate as follows:\n",
        "\n",
        "$$e_i = y_i - \\hat y_i ~~\\mathrm{for} ~~i=0,1,2,...,N-1$$\n",
        "\n",
        "The the sum of squared errors is calculated as follows:\n",
        "\n",
        "$$SSE = \\sum_{i=0}^{N-1} e_i^2$$\n",
        "\n",
        "\n",
        "### Instructions\n",
        "\n",
        "In the cell below, define a function named `sum_of_squared_errors()` with two parameters named `v1` and `v2`. These parameters are expected to be two lists of equal size. The first list is intended to represent the true values for some variable and the second list is intended to represent the corresponding estimates generated by some model. Your function should calculate and return the sum of squared errors for the two lists.\n",
        "\n",
        "You do not need to check that the lists have the same length. We will assume that this is the case.\n",
        "\n",
        "### Guidance\n",
        "\n",
        "There is an example of calculating sum of squared errors in the lesson material. In that example, the errors are already provided, but it could serve as a good starting point.\n",
        "\n"
      ],
      "metadata": {
        "id": "CDJZ2ST4ZWc2"
      }
    },
    {
      "cell_type": "code",
      "source": [
        "def sum_of_squared_errors(v1, v2):\n",
        "  sse = 0\n",
        "  for i in range(len(v1)):\n",
        "    sse += (v1[i] - v2[i]) ** 2\n",
        "\n",
        "  return sse"
      ],
      "metadata": {
        "id": "OHkx_HG8ZZmm"
      },
      "execution_count": null,
      "outputs": []
    },
    {
      "cell_type": "markdown",
      "source": [
        "Run the cell below to test your function."
      ],
      "metadata": {
        "id": "8MwZRduzdrI_"
      }
    },
    {
      "cell_type": "code",
      "source": [
        "y_true = [6.3, 2.5, 4.8, 3.6, 8.1, 4.9, 9.2, 3.8]\n",
        "y_pred = [6.7, 3.7, 4.1, 2.9, 7.8, 5.3, 8.4, 4.3]\n",
        "\n",
        "sse = sum_of_squared_errors(y_true, y_pred)\n",
        "print(round(sse,4))"
      ],
      "metadata": {
        "id": "k3G5Xz_lZwgW",
        "colab": {
          "base_uri": "https://localhost:8080/"
        },
        "outputId": "9b7c0d6c-804b-41a2-cf1c-5939f0af4363"
      },
      "execution_count": null,
      "outputs": [
        {
          "output_type": "stream",
          "name": "stdout",
          "text": [
            "3.72\n"
          ]
        }
      ]
    },
    {
      "cell_type": "markdown",
      "source": [
        "# Problem 6 - Accuracy\n",
        "\n",
        "### Problem Background\n",
        "\n",
        "**Accuracy** is another type of metric that is used to score certain types of machine learning models. Accuracy is used specifically to evaluate **classification** models that generate predictions about which group or class an object belongs to. The accuracy score for a set of class predictions is simply the ratio of predictions that were correct.\n",
        "\n",
        "For example, suppose we have created a machine learning model intended to classify images of pets as being pictures of cats or dogs. Suppose that the correct classes for 5 images are `['cat', 'cat', 'dog', 'cat', 'dog]` and the model generates the following predictions for the same 5 images: `['cat', 'dog', 'cat', 'cat', 'dog]`. Then the model's accuracy for these images is 3/5 or 0.6.\n",
        "\n",
        "### Instructions\n",
        "\n",
        "In the cell below, define a function named `accuracy()` with two parameters named `v1` and `v2`. These parameters are expected to be two lists of equal size. The first list is intended to represent the true classes for several objects and the second list is intended to represent the class predictions generated by some model. Your function should calculate and return the accuracy score for the predictions.\n",
        "\n",
        "You do not need to check that the lists have the same length. We will assume that this is the case.\n",
        "\n",
        "### Guidance\n",
        "\n",
        "You should create a variable (perhaps called `count` to keep track of the number of correct classifications. Then loop over both lists, comparing each pair of corresponding values from different lists. When the two values are the same, increment your count variable. When the loop is done, divide the count by the number of observations and return the result."
      ],
      "metadata": {
        "id": "Jf5OVKzJH8VG"
      }
    },
    {
      "cell_type": "code",
      "source": [
        "def accuracy(v1, v2):\n",
        "  count = 0\n",
        "  accuracy = 0\n",
        "\n",
        "  for i in range(len(v1)):\n",
        "    if v1[i] == v2[i]:\n",
        "      count += 1\n",
        "\n",
        "  accuracy = count / len(v1)\n",
        "  return accuracy"
      ],
      "metadata": {
        "id": "l4mB4mP7Hnso"
      },
      "execution_count": null,
      "outputs": []
    },
    {
      "cell_type": "markdown",
      "source": [
        "Run the cell below to test your function."
      ],
      "metadata": {
        "id": "w7J0wy8BdsNu"
      }
    },
    {
      "cell_type": "code",
      "source": [
        "y_true = ['A', 'C', 'A', 'D', 'D', 'A', 'B', 'B',\n",
        "          'B', 'D', 'B', 'A', 'A', 'B', 'C', 'D']\n",
        "y_pred = ['A', 'B', 'A', 'C', 'A', 'A', 'B', 'B',\n",
        "          'B', 'D', 'C', 'A', 'A', 'B', 'C', 'C']\n",
        "\n",
        "acc = accuracy(y_true, y_pred)\n",
        "print(acc)"
      ],
      "metadata": {
        "id": "7OublTOwbN8O",
        "colab": {
          "base_uri": "https://localhost:8080/"
        },
        "outputId": "7335cbdb-7cba-4cb4-e2a4-99d2e6303d34"
      },
      "execution_count": null,
      "outputs": [
        {
          "output_type": "stream",
          "name": "stdout",
          "text": [
            "0.6875\n"
          ]
        }
      ]
    },
    {
      "cell_type": "markdown",
      "source": [
        "# Problem 7 - Linear Regresion Model (Single Feature)\n",
        "\n",
        "### Problem Background\n",
        "\n",
        "A **linear regression model** with a single **feature** (or input) is a linear function used to generate predictions about a variable $y$ based on known values for a variable $x$. Such a model can be represented as a mathematical formula as show below:\n",
        "\n",
        "$$\\hat y = b + m\\cdot x$$\n",
        "\n",
        "In the formula above, $m$ is a constant called the **slope** of the model, and $b$ is a constant called the **intercept** of the model. The symbol $\\hat y$ denotes the prediction generated by the model.\n",
        "\n",
        "\n",
        "### Instructions\n",
        "\n",
        "In the cell below, define a function named `linear_model()` with three parameters named `b`, `m`, and `x`. These parameters are expected to be numbers that represent the variable mentioned above. The function should return a prediction $\\hat y$.\n",
        "\n",
        "### Guidance\n",
        "\n",
        "This involves only simply arithmetic and can be accomplished with a single line of code within the function.\n"
      ],
      "metadata": {
        "id": "n4xz1hudH_bX"
      }
    },
    {
      "cell_type": "code",
      "source": [
        "def linear_model(b, m, x):\n",
        "  y = b + m * x\n",
        "  return y"
      ],
      "metadata": {
        "id": "jPBQlVQGHnoh"
      },
      "execution_count": null,
      "outputs": []
    },
    {
      "cell_type": "markdown",
      "source": [
        "Fill in the blanks in the cell below to apply the following model to the $x$ values provided in the list:\n",
        "\n",
        "$$\\hat y ~=~ 3.7 + 0.6\\cdot x$$"
      ],
      "metadata": {
        "id": "T54O_W7Cdto8"
      }
    },
    {
      "cell_type": "code",
      "source": [
        "x_list = [4.5, 7.6, 1.4, 9.1, 3.4]\n",
        "\n",
        "y_list = []\n",
        "for x in x_list:\n",
        "    y = linear_model(3.7, 0.6, x)\n",
        "    y_list.append(y)\n",
        "\n",
        "print(y_list)"
      ],
      "metadata": {
        "id": "724gTz-6cSjN",
        "colab": {
          "base_uri": "https://localhost:8080/"
        },
        "outputId": "6a9bb6a9-2e10-4751-9fde-ff1d494a1b26"
      },
      "execution_count": null,
      "outputs": [
        {
          "output_type": "stream",
          "name": "stdout",
          "text": [
            "[6.4, 8.26, 4.54, 9.16, 5.74]\n"
          ]
        }
      ]
    },
    {
      "cell_type": "markdown",
      "source": [
        "A list of correct $y$ values are provided in the cell below. These values correspond to the $x$ values from the previous cell. Apply your `sum_of_squared_errors()` function to the predictions from the previous cell and the true values from the next cell. Print the result rounded to four decimal places."
      ],
      "metadata": {
        "id": "ajaIprNGduaa"
      }
    },
    {
      "cell_type": "code",
      "source": [
        "y_true = [5.97, 8.61, 4.42, 8.65, 6.24]\n",
        "\n",
        "# Add code here\n",
        "SSE = sum_of_squared_errors(y_true, y_list)\n",
        "\n",
        "print(round(SSE, 4))"
      ],
      "metadata": {
        "id": "WM0yZ3GKcvC0",
        "colab": {
          "base_uri": "https://localhost:8080/"
        },
        "outputId": "03bc907e-8d02-4e76-bd10-8750a567684f"
      },
      "execution_count": null,
      "outputs": [
        {
          "output_type": "stream",
          "name": "stdout",
          "text": [
            "0.8319\n"
          ]
        }
      ]
    },
    {
      "cell_type": "markdown",
      "source": [
        "# Problem 8 - Linear Model (Multiple Inputs)\n",
        "\n",
        "### Problem Background\n",
        "\n",
        "A **linear regression model** can have more than one feature (or input). Suppose that a model has $K$ inputs, which are denoted as $x^{(1)}$ , $x^{(2)}$, ..., $x^{(K)}$. A linear regression model using these inputs could be written as follows:\n",
        "\n",
        "$$\\hat y = \\hat \\beta_0 ~+~ \\hat \\beta_1 \\cdot x^{(1)}~+~ \\hat \\beta_2 \\cdot x^{(2)} ~+~ ... ~+~ \\hat \\beta_K \\cdot x^{(K)}$$\n",
        "\n",
        "In the formula above, the $\\hat \\beta_i$ values are constant parameter values that define the model. As before, the symbol $\\hat y$ denotes the prediction generated by the model.\n",
        "\n",
        "### Instructions\n",
        "\n",
        "In the cell below, define a function named `linear_model()` with three parameters named 'b', 'betas', and 'x'.\n",
        "\n",
        "* The parameter `b` is intended to represent the constant $\\hat \\beta_0$ in a linear regression model.\n",
        "\n",
        "* The parameter `betas` is intended to be a list that contains the constants $\\hat \\beta_1$, ..., $\\hat \\beta_K$ for a linear regression model.\n",
        "\n",
        "* The parameter `x` is intended to be a list containing a set of model inputs of the form  $x^{(1)}$ , $x^{(2)}$, ..., $x^{(K)}$.\n",
        "\n",
        "Your function should return a prediction $\\hat y$.\n",
        "\n",
        "### Guidance\n",
        "\n",
        "This can be accomplished using a loop, but no loop is needed if you make use of the `dot_product()` function from Problem 3 of this assignment."
      ],
      "metadata": {
        "id": "AqOYAOkDIN1f"
      }
    },
    {
      "cell_type": "code",
      "source": [
        "def linear_model(b, betas, x):\n",
        "  y = b + dot_product(betas, x)\n",
        "  return y"
      ],
      "metadata": {
        "id": "WuwoWhvPdX9L"
      },
      "execution_count": null,
      "outputs": []
    },
    {
      "cell_type": "markdown",
      "source": [
        "The list `x_list` in the cell below contains three sub-lists, each of which contains a set of 5 feature values for a linear model. Fill in the blanks to apply the following linear model to each of these observations:\n",
        "\n",
        "$$\\hat y ~=~ 6.1 ~+~ 6 x^{(1)} ~-~ 3 x^{(2)} ~+~ 8 x^{(3)} ~+~ 2 x^{(4)} ~+~ 4 x^{(5)}$$"
      ],
      "metadata": {
        "id": "1uLT9I4jdvIO"
      }
    },
    {
      "cell_type": "code",
      "source": [
        "x_list = [\n",
        "    [6.5, 4.9, 8.4, 4.7, 8.4],\n",
        "    [4.5, 6.5, 1.4, 3.4, 5.6],\n",
        "    [4.2, 4.8, 7.1, 5.5, 4.1]\n",
        "]\n",
        "\n",
        "y_list = []\n",
        "for x in x_list:\n",
        "    y = linear_model(6.1, [6, -3, 8, 2, 4], x)\n",
        "    y_list.append(y)\n",
        "\n",
        "print(y_list)"
      ],
      "metadata": {
        "id": "f66S9_lidxda",
        "colab": {
          "base_uri": "https://localhost:8080/"
        },
        "outputId": "daa97aad-3ea3-439c-f4f4-f01c438d9b87"
      },
      "execution_count": null,
      "outputs": [
        {
          "output_type": "stream",
          "name": "stdout",
          "text": [
            "[140.6, 54.0, 101.1]\n"
          ]
        }
      ]
    },
    {
      "cell_type": "markdown",
      "source": [
        "The list `x_list` in the cell below contains four sub-lists, each of which contains a set of 3 feature values for a linear model. Fill in the blanks to apply the following linear model to each of these observations:\n",
        "\n",
        "$$\\hat y ~=~ 23.1 ~+~ 1.8 x^{(1)} ~+~ 2.4 x^{(2)} ~-~ 0.8 x^{(3)} $$"
      ],
      "metadata": {
        "id": "0iMhukMAdvmK"
      }
    },
    {
      "cell_type": "code",
      "source": [
        "x_list = [\n",
        "    [52, 73, 36],\n",
        "    [63, 72, 48],\n",
        "    [88, 49, 57],\n",
        "    [46, 20, 51]\n",
        "]\n",
        "\n",
        "y_list = []\n",
        "for x in x_list:\n",
        "    y = linear_model(23.1, [1.8, 2.4, -0.8], x)\n",
        "    y_list.append(y)\n",
        "\n",
        "print(y_list)"
      ],
      "metadata": {
        "id": "2QArNcjsenQL",
        "colab": {
          "base_uri": "https://localhost:8080/"
        },
        "outputId": "812d0719-8d85-429f-e9d4-2ec679d5c41d"
      },
      "execution_count": null,
      "outputs": [
        {
          "output_type": "stream",
          "name": "stdout",
          "text": [
            "[263.1, 270.9, 253.5, 113.1]\n"
          ]
        }
      ]
    },
    {
      "cell_type": "markdown",
      "source": [
        "# Submission Instructions\n",
        "\n",
        "1. Perform a Restart and Run All by clicking **Runtime > Restart session and run all**.\n",
        "2. Copy the link to your notebook by clicking **Share > Copy Link**.\n",
        "3. Paste the copied link into the `notebook_url` field in the [Notebook Renderer](https://colab.research.google.com/drive/1CJTipys46ldZxJFwnt7XbdjQUfkmoXeU?usp=sharing) tool and then execute the cell to render the notebook.\n",
        "4. The Notebook Renderer will open up a save file dialog. Save the resulting HTML file yo your local machine.\n",
        "5. Submit the HTML file to Canvas.\n"
      ],
      "metadata": {
        "id": "yMMAAQEzlGvm"
      }
    }
  ]
}
